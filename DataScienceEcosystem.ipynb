{
  "nbformat": 4,
  "nbformat_minor": 0,
  "metadata": {
    "colab": {
      "provenance": [],
      "authorship_tag": "ABX9TyMEcDby74xM83L9ZW86DaQ0",
      "include_colab_link": true
    },
    "kernelspec": {
      "name": "python3",
      "display_name": "Python 3"
    },
    "language_info": {
      "name": "python"
    }
  },
  "cells": [
    {
      "cell_type": "markdown",
      "metadata": {
        "id": "view-in-github",
        "colab_type": "text"
      },
      "source": [
        "<a href=\"https://colab.research.google.com/github/qichen19/DataScienceEcosystems/blob/main/DataScienceEcosystem.ipynb\" target=\"_parent\"><img src=\"https://colab.research.google.com/assets/colab-badge.svg\" alt=\"Open In Colab\"/></a>"
      ]
    },
    {
      "cell_type": "markdown",
      "source": [
        "# Data Science Tools and Ecosystem"
      ],
      "metadata": {
        "id": "Vpj6VuJYd5CU"
      }
    },
    {
      "cell_type": "markdown",
      "source": [
        "In this notebook, Data Science Tools and Ecosystem are summarized."
      ],
      "metadata": {
        "id": "dk3BJuereP2u"
      }
    },
    {
      "cell_type": "markdown",
      "source": [
        "Some of the popular languages that Data Scientists use are:\n",
        "\n",
        "\n",
        "1.   **Python**: Python is one of the most popular programming languages for data science. It has a rich ecosystem of libraries such as Pandas, NumPy, SciPy, Scikit-Learn, Matplotlib, and Seaborn, making it versatile for data analysis, machine learning, and visualization task\n",
        "2.   **R**: R is a language specifically designed for statistical analysis and data visualization. It has a wide range of packages for statistical modeling, machine learning, and graphical techniques. R is commonly used in academic and research settings.\n",
        "3.   **SQL**: SQL (Structured Query Language) is essential for working with relational databases. Data scientists often use SQL to extract, transform, and analyze data stored in databases.\n",
        "4. **Julia**: Julia is a high-level, high-performance programming language for technical computing, with syntax that is familiar to users of other technical computing environments. It is gaining popularity for its speed and ease of use in data science tasks.\n",
        "5. **Scala**: Scala is compatible with Java and is used with Apache Spark, a powerful framework for big data processing. It combines functional programming features with object-oriented programming.\n",
        "\n"
      ],
      "metadata": {
        "id": "u0OlBHRbemmU"
      }
    },
    {
      "cell_type": "markdown",
      "source": [
        "Some of the commonly used libraries used by Data Scientists include:"
      ],
      "metadata": {
        "id": "D9Nlz_DBgCtI"
      }
    },
    {
      "cell_type": "markdown",
      "source": [
        "\n",
        "**Python**\n",
        "1.   Pandas\n",
        "2.   NumPy\n",
        "3. SciPy\n",
        "4. Matplotlib\n",
        "5. Seaborn\n",
        "6. Scikit-Learn\n",
        "7. TensorFlow and Keras\n",
        "8. PyTorch\n",
        "\n",
        "**R**\n",
        "\n",
        "\n",
        "1.   ggplot2\n",
        "2.   caret\n",
        "3. randomForest\n",
        "\n",
        "\n",
        "\n",
        "\n"
      ],
      "metadata": {
        "id": "616vh58PgGby"
      }
    },
    {
      "cell_type": "markdown",
      "source": [
        "| Data Science Tools |\n",
        "|--------------------|\n",
        "| RStudio            |\n",
        "| Jupyter Notebook   |\n",
        "| VSCode             |\n",
        "\n"
      ],
      "metadata": {
        "id": "zm2eFuZ8htQC"
      }
    },
    {
      "cell_type": "markdown",
      "source": [
        "### Below are a few examples of evaluating arithmetic expressions in Python"
      ],
      "metadata": {
        "id": "mAhXWFeyiPXY"
      }
    },
    {
      "cell_type": "markdown",
      "source": [
        " This a simple arithmetic expression to mutiply then add integers"
      ],
      "metadata": {
        "id": "oz7JIBWtiSCt"
      }
    },
    {
      "cell_type": "code",
      "source": [
        "x = (3*4)+5\n",
        "print(x)"
      ],
      "metadata": {
        "colab": {
          "base_uri": "https://localhost:8080/"
        },
        "id": "xxbK8Q5JibQl",
        "outputId": "e753b454-ccb2-4a97-ee49-71e119db8b4b"
      },
      "execution_count": 2,
      "outputs": [
        {
          "output_type": "stream",
          "name": "stdout",
          "text": [
            "17\n"
          ]
        }
      ]
    },
    {
      "cell_type": "markdown",
      "source": [
        " This will convert 200 minutes to hours by diving by 60"
      ],
      "metadata": {
        "id": "j9dc2lJVivoD"
      }
    },
    {
      "cell_type": "code",
      "source": [
        "minutes = 200\n",
        "hour = minutes / 60\n",
        "print(hour)"
      ],
      "metadata": {
        "colab": {
          "base_uri": "https://localhost:8080/"
        },
        "id": "tBv4c_t7iwRq",
        "outputId": "8b50b039-1584-45c3-b9d2-9d072aa1c271"
      },
      "execution_count": 3,
      "outputs": [
        {
          "output_type": "stream",
          "name": "stdout",
          "text": [
            "3.3333333333333335\n"
          ]
        }
      ]
    },
    {
      "cell_type": "markdown",
      "source": [
        "**Objectives**"
      ],
      "metadata": {
        "id": "y0tjZnIUjGu4"
      }
    },
    {
      "cell_type": "markdown",
      "source": [
        "\n",
        "\n",
        "*   List popular languages for data science\n",
        "*   List popular libraries for data science\n",
        "*   List popular data science tools\n",
        "*   List examples of evaluating arithmetic expressions in Python\n",
        "\n"
      ],
      "metadata": {
        "id": "MVtwzzLOjJIr"
      }
    },
    {
      "cell_type": "markdown",
      "source": [
        "## Author"
      ],
      "metadata": {
        "id": "TOiSd9pLjsiw"
      }
    },
    {
      "cell_type": "markdown",
      "source": [
        "Lucy Chen"
      ],
      "metadata": {
        "id": "5qCavw3Kjykk"
      }
    }
  ]
}